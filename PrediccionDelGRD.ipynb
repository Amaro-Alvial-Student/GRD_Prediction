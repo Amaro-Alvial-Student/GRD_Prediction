{
  "nbformat": 4,
  "nbformat_minor": 0,
  "metadata": {
    "colab": {
      "provenance": [],
      "include_colab_link": true
    },
    "kernelspec": {
      "name": "python3",
      "display_name": "Python 3"
    },
    "language_info": {
      "name": "python"
    }
  },
  "cells": [
    {
      "cell_type": "markdown",
      "metadata": {
        "id": "view-in-github",
        "colab_type": "text"
      },
      "source": [
        "<a href=\"https://colab.research.google.com/github/Amaro-Alvial-Student/GRD_Prediction/blob/main/PrediccionDelGRD.ipynb\" target=\"_parent\"><img src=\"https://colab.research.google.com/assets/colab-badge.svg\" alt=\"Open In Colab\"/></a>"
      ]
    },
    {
      "cell_type": "markdown",
      "source": [
        "# Preparar los datos y dar formato al DataSet"
      ],
      "metadata": {
        "id": "1TSQ_kaH0otr"
      }
    },
    {
      "cell_type": "markdown",
      "source": [
        "Explicar"
      ],
      "metadata": {
        "id": "6SKQ1lC60uoK"
      }
    },
    {
      "cell_type": "code",
      "execution_count": null,
      "metadata": {
        "id": "os-S1zGYT0TW"
      },
      "outputs": [],
      "source": [
        "import pandas as pd\n",
        "import matplotlib.pyplot as plt\n",
        "import seaborn as sns\n",
        "import numpy as np"
      ]
    },
    {
      "cell_type": "code",
      "source": [
        "df = pd.read_csv('dataset_elpino.csv', sep=';')\n",
        "df.head()"
      ],
      "metadata": {
        "id": "csetTS7T0xlp"
      },
      "execution_count": null,
      "outputs": []
    },
    {
      "cell_type": "markdown",
      "source": [
        "Formato del archivo \"dataset_elpino.csv\":\n",
        "* Primera columna es el diagnostico principal.\n",
        "* Desde la columna 2 a la 35 son diagnosticos secundarios.\n",
        "* Columna 36 es el procedimiento principal.\n",
        "* Desde la columna 37 a la 65 son procedimientos secundarios.\n",
        "* Columna 66 contiene la edad en años.\n",
        "* Columna 67 contiene el sexo.\n",
        "* Columna 68 contiene el GRD (objetivo)\n",
        "* El formato de los diagnosticos, procedimientos y GRD está dado por: Código - Descripción."
      ],
      "metadata": {
        "id": "rFsN-kG602vL"
      }
    },
    {
      "cell_type": "markdown",
      "source": [
        "Explicar"
      ],
      "metadata": {
        "id": "lTO81mo703dR"
      }
    },
    {
      "cell_type": "code",
      "source": [
        "archivo=open(\"dataset_elpino.csv\",encoding=\"utf-8\")\n",
        "header=archivo.readline().strip().split(\";\")"
      ],
      "metadata": {
        "id": "D2FXDIg5061I"
      },
      "execution_count": null,
      "outputs": []
    },
    {
      "cell_type": "markdown",
      "source": [
        "Explicar"
      ],
      "metadata": {
        "id": "e7iWVc2R07Y1"
      }
    },
    {
      "cell_type": "code",
      "source": [
        "corpus=[]\n",
        "target=[]\n",
        "edad=[]\n",
        "sexo=[]\n",
        "severidad=[]\n",
        "features=[]"
      ],
      "metadata": {
        "id": "C9eidAfL09OH"
      },
      "execution_count": null,
      "outputs": []
    },
    {
      "cell_type": "markdown",
      "source": [
        "Explicar"
      ],
      "metadata": {
        "id": "hYuWU4FW1A4p"
      }
    },
    {
      "cell_type": "code",
      "source": [
        "for col in header:\n",
        "    # col=col.split(\"-\")[0].strip()   Linea que fuertemente parece sobrante\n",
        "    if col.startswith(\"Diag\") or col.startswith(\"Proc\"):\n",
        "        col=col.split(\" \")\n",
        "        col=col[0]+col[1]\n",
        "    features.append(col)\n",
        "\n",
        "print(features)"
      ],
      "metadata": {
        "id": "tUxzBmcU1CWA"
      },
      "execution_count": null,
      "outputs": []
    },
    {
      "cell_type": "markdown",
      "source": [
        "Explicar"
      ],
      "metadata": {
        "id": "woo01FLi1FVD"
      }
    },
    {
      "cell_type": "code",
      "source": [
        "for linea in archivo:\n",
        "    row=[]\n",
        "    linea=linea.strip().split(\";\")\n",
        "    for i in range(len(linea)):\n",
        "        col=linea[i].split(\"-\")[0].strip()\n",
        "        if i==67:\n",
        "            # grd=col\n",
        "            # target.append(grd[-1])\n",
        "            target.append(col)\n",
        "        elif i==66:\n",
        "          #Se transformará la columna categorica del sexo, en binario, con mujer como 1 y hombre como 0\n",
        "            sexo.append(1 if col==\"Mujer\" else 0)\n",
        "        elif i==65:\n",
        "            edad.append(int(col))\n",
        "        else:\n",
        "            row.append(col)\n",
        "    corpus.append(row)"
      ],
      "metadata": {
        "id": "8RAt14W71GlQ"
      },
      "execution_count": null,
      "outputs": []
    },
    {
      "cell_type": "markdown",
      "source": [
        "Ahora con la información de las columnas extraida en forma de arreglos, tenemos el siguiente formato:\n",
        "\n",
        "Los diagnosticos y procedimientos realizados al paciente i se encuentran en el $corpus[i]$, además su edad, sexo y GRD se encuentran en $edad[i]$, $sexo[i]$ y $target[i]$, respectivamente."
      ],
      "metadata": {
        "id": "D0-52HIc1I-p"
      }
    },
    {
      "cell_type": "code",
      "source": [
        "print(features)\n",
        "print(f\"{corpus[0]} {edad[0]} {sexo[0]} {target[0]}\")"
      ],
      "metadata": {
        "id": "hQvoGgfs1OvY"
      },
      "execution_count": null,
      "outputs": []
    },
    {
      "cell_type": "markdown",
      "source": [
        "Dado que tenemos nuestros datos correctamente ordenados, es momento de crear un DataFrame con Pandas."
      ],
      "metadata": {
        "id": "4Fz59p6L1TrF"
      }
    },
    {
      "cell_type": "code",
      "source": [
        "datos = list(zip(corpus, edad, sexo, target))\n",
        "columnas = ['corpus', 'Age', 'Gender', 'Target']\n",
        "df = pd.DataFrame(datos, columns=columnas)\n",
        "df.head()"
      ],
      "metadata": {
        "id": "ESwEMU8i1V7P"
      },
      "execution_count": null,
      "outputs": []
    },
    {
      "cell_type": "markdown",
      "source": [
        "Explicar"
      ],
      "metadata": {
        "id": "uhKhloNx1X_y"
      }
    },
    {
      "cell_type": "code",
      "source": [
        "df[features[:len(corpus[0])]] = pd.DataFrame(df.corpus.values.tolist(), index= df.index)\n",
        "df = df.drop('corpus', axis=1)\n",
        "columnasOrdenadas = features[:len(corpus[0])] + ['Age', 'Gender', 'Target']\n",
        "df = df[columnasOrdenadas]\n",
        "df.head()"
      ],
      "metadata": {
        "id": "IwrJQ0Y_1bCo"
      },
      "execution_count": null,
      "outputs": []
    },
    {
      "cell_type": "markdown",
      "source": [
        "# Analisis de Datos"
      ],
      "metadata": {
        "id": "--YC65YU1dFz"
      }
    },
    {
      "cell_type": "markdown",
      "source": [
        "Explicar"
      ],
      "metadata": {
        "id": "r4gSx_ap1pvM"
      }
    }
  ]
}